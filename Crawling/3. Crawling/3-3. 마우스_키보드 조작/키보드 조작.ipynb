{
 "cells": [
  {
   "cell_type": "markdown",
   "metadata": {},
   "source": [
    "# [PyAutoGUI](https://pyautogui.readthedocs.io/en/latest/index.html)\n",
    "> Windows, macOS, Linux와 같은 주요 운영체제는 프로그래밍을 이용해서 마우스와 키보드를 제어하는 각자의 방식이 있습니다. 이는 복잡하고 이해하기 어렵기 때문에 여러 플랫폼에서 단순하게 동작하는 `PyAutoGUI API`가 만들어졌습니다.  \n",
    "> PyAutoGUI는 마우스/키보드 자동 제어를 위한 크로스 플랫폼 파이썬 모듈입니다. "
   ]
  },
  {
   "cell_type": "code",
   "execution_count": 1,
   "metadata": {},
   "outputs": [],
   "source": [
    "import pyautogui "
   ]
  },
  {
   "cell_type": "markdown",
   "metadata": {},
   "source": [
    "### 문자 입력"
   ]
  },
  {
   "cell_type": "code",
   "execution_count": 19,
   "metadata": {},
   "outputs": [],
   "source": [
    "pyautogui.click(500,600) # (500, 550)위치에서 클릭\n",
    "pyautogui.typewrite('#Hello world', interval=0.2) # 클릭한 위치에서 #Hello world 글씨를 0.2초 속도로 글 작성 "
   ]
  },
  {
   "cell_type": "code",
   "execution_count": null,
   "metadata": {},
   "outputs": [],
   "source": [
    "#Hello world"
   ]
  },
  {
   "cell_type": "code",
   "execution_count": 21,
   "metadata": {},
   "outputs": [],
   "source": [
    "pyautogui.click(500, 800)\n",
    "pyautogui.typewrite(['#', 'H', 'I', '~'], interval=0.1)"
   ]
  },
  {
   "cell_type": "code",
   "execution_count": null,
   "metadata": {},
   "outputs": [],
   "source": [
    "#HI~"
   ]
  },
  {
   "cell_type": "markdown",
   "metadata": {},
   "source": [
    "### 키 입력"
   ]
  },
  {
   "cell_type": "code",
   "execution_count": 22,
   "metadata": {},
   "outputs": [],
   "source": [
    "pyautogui.hotkey('command', 'c') # copy (윈도우의 경우에는 ctrl)"
   ]
  },
  {
   "cell_type": "code",
   "execution_count": 23,
   "metadata": {},
   "outputs": [],
   "source": [
    "pyautogui.hotkey('command', 'v') # paste (윈도우의 경우에는 ctrl)"
   ]
  },
  {
   "cell_type": "code",
   "execution_count": null,
   "metadata": {},
   "outputs": [],
   "source": []
  }
 ],
 "metadata": {
  "kernelspec": {
   "display_name": "Python 3.9.10 64-bit ('study3.9')",
   "language": "python",
   "name": "python3"
  },
  "language_info": {
   "codemirror_mode": {
    "name": "ipython",
    "version": 3
   },
   "file_extension": ".py",
   "mimetype": "text/x-python",
   "name": "python",
   "nbconvert_exporter": "python",
   "pygments_lexer": "ipython3",
   "version": "3.9.10+"
  },
  "orig_nbformat": 4,
  "vscode": {
   "interpreter": {
    "hash": "f7e437f51093040c186fe1fdf3815d5791d8856d54a1d09b959b5ae0e56a4015"
   }
  }
 },
 "nbformat": 4,
 "nbformat_minor": 2
}
