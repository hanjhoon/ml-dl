{
 "cells": [
  {
   "cell_type": "markdown",
   "metadata": {},
   "source": [
    "# [PyAutoGUI](https://pyautogui.readthedocs.io/en/latest/index.html)\n",
    "> Windows, macOS, Linux와 같은 주요 운영체제는 프로그래밍을 이용해서 마우스와 키보드를 제어하는 각자의 방식이 있습니다. 이는 복잡하고 이해하기 어렵기 때문에 여러 플랫폼에서 단순하게 동작하는 `PyAutoGUI API`가 만들어졌습니다.  \n",
    "> PyAutoGUI는 마우스/키보드 자동 제어를 위한 크로스 플랫폼 파이썬 모듈입니다. \n"
   ]
  },
  {
   "cell_type": "code",
   "execution_count": 2,
   "metadata": {},
   "outputs": [],
   "source": [
    "import pyautogui "
   ]
  },
  {
   "cell_type": "code",
   "execution_count": 16,
   "metadata": {},
   "outputs": [
    {
     "data": {
      "text/plain": [
       "Size(width=1512, height=982)"
      ]
     },
     "execution_count": 16,
     "metadata": {},
     "output_type": "execute_result"
    }
   ],
   "source": [
    "# 모니터 크기 얻기\n",
    "pyautogui.size()"
   ]
  },
  {
   "cell_type": "code",
   "execution_count": 5,
   "metadata": {},
   "outputs": [
    {
     "data": {
      "text/plain": [
       "Point(x=349, y=524)"
      ]
     },
     "execution_count": 5,
     "metadata": {},
     "output_type": "execute_result"
    }
   ],
   "source": [
    "# 마우스 커서 위치\n",
    "pyautogui.position() # return (x, y): x(가로 길이), y(세로 길이)"
   ]
  },
  {
   "cell_type": "markdown",
   "metadata": {},
   "source": [
    "### 마우스 이동"
   ]
  },
  {
   "cell_type": "code",
   "execution_count": 7,
   "metadata": {},
   "outputs": [],
   "source": [
    "# 마우스 이동\n",
    "pyautogui.moveTo(200, 200)"
   ]
  },
  {
   "cell_type": "code",
   "execution_count": null,
   "metadata": {},
   "outputs": [],
   "source": [
    "# 마우스 상대적 이동\n",
    "before = pyautogui.position()\n",
    "print(f'before: {before}') # 초기 위치\n",
    "\n",
    "pyautogui.moveRel(10, 100)\n",
    "\n",
    "after = pyautogui.position()\n",
    "print(f'after: {after}') # 이동 위치"
   ]
  },
  {
   "cell_type": "markdown",
   "metadata": {},
   "source": [
    "### 마우스 클릭"
   ]
  },
  {
   "cell_type": "code",
   "execution_count": 8,
   "metadata": {},
   "outputs": [],
   "source": [
    "# 마우스 클릭\n",
    "pyautogui.click()"
   ]
  },
  {
   "cell_type": "code",
   "execution_count": 9,
   "metadata": {},
   "outputs": [],
   "source": [
    "# 마우스 이동 & 클릭\n",
    "pyautogui.click(200, 200)"
   ]
  },
  {
   "cell_type": "code",
   "execution_count": 10,
   "metadata": {},
   "outputs": [],
   "source": [
    "# 마우스 이동 & 오른쪽 클릭\n",
    "pyautogui.click(200, 200, button='right') # 왼쪽인경우; left"
   ]
  },
  {
   "cell_type": "code",
   "execution_count": 15,
   "metadata": {},
   "outputs": [],
   "source": [
    "# 마우스 더블클릭\n",
    "pyautogui.doubleClick()"
   ]
  },
  {
   "cell_type": "code",
   "execution_count": 12,
   "metadata": {},
   "outputs": [],
   "source": [
    "# interval 설정\n",
    "pyautogui.click(200, 200, button='right', clicks=4, interval=1) # clicks(클릭 횟수), interval(클릭 간격 시간)"
   ]
  },
  {
   "cell_type": "markdown",
   "metadata": {},
   "source": [
    "### 마우스 드래그"
   ]
  },
  {
   "cell_type": "code",
   "execution_count": 19,
   "metadata": {},
   "outputs": [],
   "source": [
    "# x=300, y=300 위치로 마우스 왼쪽 버튼을 클릭한 채로 드래그\n",
    "pyautogui.dragTo(300, 300, button='left')"
   ]
  },
  {
   "cell_type": "code",
   "execution_count": 18,
   "metadata": {},
   "outputs": [],
   "source": [
    "# x=300, y=300 위치로 마우스 왼쪽 버튼을 클릭한 채로 2초 동안 드래그\n",
    "pyautogui.dragTo(300, 300, 2, button='left')"
   ]
  },
  {
   "cell_type": "code",
   "execution_count": 23,
   "metadata": {},
   "outputs": [
    {
     "name": "stdout",
     "output_type": "stream",
     "text": [
      "before: Point(x=240, y=644)\n"
     ]
    }
   ],
   "source": [
    "before = pyautogui.position()\n",
    "print(f'before: {before}') # 초기 위치\n",
    "\n",
    "# 초기 위치에서 x=300, y=300 만큼 이동하면서 오른쪽 클릭한 채로 2초 동안 드래그\n",
    "pyautogui.dragRel(300, 300, 2, button='right')"
   ]
  },
  {
   "cell_type": "code",
   "execution_count": null,
   "metadata": {},
   "outputs": [],
   "source": []
  }
 ],
 "metadata": {
  "kernelspec": {
   "display_name": "Python 3.9.10 64-bit ('study3.9')",
   "language": "python",
   "name": "python3"
  },
  "language_info": {
   "codemirror_mode": {
    "name": "ipython",
    "version": 3
   },
   "file_extension": ".py",
   "mimetype": "text/x-python",
   "name": "python",
   "nbconvert_exporter": "python",
   "pygments_lexer": "ipython3",
   "version": "3.9.10"
  },
  "orig_nbformat": 4,
  "vscode": {
   "interpreter": {
    "hash": "f7e437f51093040c186fe1fdf3815d5791d8856d54a1d09b959b5ae0e56a4015"
   }
  }
 },
 "nbformat": 4,
 "nbformat_minor": 2
}
