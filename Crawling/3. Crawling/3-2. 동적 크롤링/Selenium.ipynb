{
 "cells": [
  {
   "cell_type": "markdown",
   "metadata": {},
   "source": [
    "# 크롤링 종류\n",
    "1. 정적 웹 페이지 크롤링(url 주소가 변경됨)  \n",
    "> 정적 웹 페이지란 서버(Web Server)에 <u>미리 저장된 파일</u>이 그대로 전달되는 웹 페이지를 말합니다. 즉, 특정 웹페이지의 url 주소만 주소창에 입력하면 웹 브라우저로 HTML 정보를 마음대로 가져올 수 있습니다. \n",
    "- 장점\n",
    "  - 요청에 대한 파일만 전송하면 되기 때문에 서버간 통신이 거의 없고 속도가 빠름\n",
    "  - 단순한 문서들로만 이루어져 있어서 어떤 호스팅서버에서도 동작 가능하므로 구축하는데 드는 비용이 적음\n",
    "- 단점\n",
    "  - 저장된 정보만 보여주기 때문에 서비스가 한정적\n",
    "  - 추가, 수정, 삭제 등의 작업을 서버에서 직접 다운받아 편집 후 업로드로 수정해줘야 하기 때문에 관리가 어려움\n",
    "- 사용 라이브러리: requests / BeautifulSoup\n",
    "2. 동적 웹 페이지 크롤링(url 주소가 변경되지 않음)\n",
    "> 동적 웹 페이지란 입력, 클릭, 로그인 등 여러 이유로 [Ajax(비동기 통신)](https://sjparkk-dev1og.tistory.com/27) 형태로 서버(Was Server)와 데이터를 주고 받아 동적으로 제공하는 웹 페이지를 말합니다. \n",
    "- 장점\n",
    "  - 다양한 정보를 조합하여 웹 페이지를 제공하기 때문에 서비스가 다양함\n",
    "  - 추가, 수정, 삭제 등의 작업이 가능하기 때문에 관리가 편함\n",
    "- 단점\n",
    "  - 웹 페이지를 보여주기 위해서 여러번의 비동기 통신을 처리하기 때문에 상대적으로 속도가 느림\n",
    "  - Web Server외에 Was Server가 추가로 필요함\n",
    "- 사용 라이브러리: selenium, chromedriver"
   ]
  },
  {
   "cell_type": "markdown",
   "metadata": {},
   "source": [
    "# [Selenium](https://www.selenium.dev/documentation/webdriver/)\n",
    "- 참고 동영상: https://www.inflearn.com/course/%ED%8C%8C%EC%9D%B4%EC%8D%AC-%ED%81%AC%EB%A1%A4%EB%A7%81-%EA%B8%B0%EC%B4%88/unit/93651?tab=curriculum\n",
    "## Locating Elements\n",
    "- https://selenium-python.readthedocs.io/locating-elements.html"
   ]
  },
  {
   "cell_type": "markdown",
   "metadata": {},
   "source": [
    "## 설치\n",
    "- selenium      \n",
    "-  [브라우저별 selenium webdriver 설치](https://wikidocs.net/91474)    \n",
    "    - [Google Chrome](https://chromedriver.chromium.org/downloads): 개발자는 무조건 크롬!!\n",
    "    - [Microsoft Edge](https://developer.microsoft.com/en-us/microsoft-edge/tools/webdriver/)"
   ]
  },
  {
   "cell_type": "code",
   "execution_count": 2,
   "metadata": {},
   "outputs": [],
   "source": [
    "# !pip install selenium"
   ]
  },
  {
   "cell_type": "code",
   "execution_count": 34,
   "metadata": {},
   "outputs": [
    {
     "name": "stdout",
     "output_type": "stream",
     "text": [
      "Collecting webdriver_manager\n",
      "  Downloading webdriver_manager-3.8.3-py2.py3-none-any.whl (26 kB)\n",
      "Requirement already satisfied: tqdm in /Users/gyoungwon-cho/.pyenv/versions/3.9-dev/envs/study3.9/lib/python3.9/site-packages (from webdriver_manager) (4.64.0)\n",
      "Collecting python-dotenv\n",
      "  Downloading python_dotenv-0.20.0-py3-none-any.whl (17 kB)\n",
      "Requirement already satisfied: requests in /Users/gyoungwon-cho/.pyenv/versions/3.9-dev/envs/study3.9/lib/python3.9/site-packages (from webdriver_manager) (2.27.1)\n",
      "Requirement already satisfied: urllib3<1.27,>=1.21.1 in /Users/gyoungwon-cho/.pyenv/versions/3.9-dev/envs/study3.9/lib/python3.9/site-packages (from requests->webdriver_manager) (1.26.9)\n",
      "Requirement already satisfied: charset-normalizer~=2.0.0 in /Users/gyoungwon-cho/.pyenv/versions/3.9-dev/envs/study3.9/lib/python3.9/site-packages (from requests->webdriver_manager) (2.0.12)\n",
      "Requirement already satisfied: idna<4,>=2.5 in /Users/gyoungwon-cho/.pyenv/versions/3.9-dev/envs/study3.9/lib/python3.9/site-packages (from requests->webdriver_manager) (3.3)\n",
      "Requirement already satisfied: certifi>=2017.4.17 in /Users/gyoungwon-cho/.pyenv/versions/3.9-dev/envs/study3.9/lib/python3.9/site-packages (from requests->webdriver_manager) (2021.10.8)\n",
      "Installing collected packages: python-dotenv, webdriver_manager\n",
      "Successfully installed python-dotenv-0.20.0 webdriver_manager-3.8.3\n",
      "\n",
      "\u001b[1m[\u001b[0m\u001b[34;49mnotice\u001b[0m\u001b[1;39;49m]\u001b[0m\u001b[39;49m A new release of pip available: \u001b[0m\u001b[31;49m22.1.2\u001b[0m\u001b[39;49m -> \u001b[0m\u001b[32;49m22.2.2\u001b[0m\n",
      "\u001b[1m[\u001b[0m\u001b[34;49mnotice\u001b[0m\u001b[1;39;49m]\u001b[0m\u001b[39;49m To update, run: \u001b[0m\u001b[32;49mpython -m pip install --upgrade pip\u001b[0m\n"
     ]
    }
   ],
   "source": [
    "# !pip install webdriver_manager"
   ]
  },
  {
   "cell_type": "markdown",
   "metadata": {},
   "source": [
    "## Import 라이브러리"
   ]
  },
  {
   "cell_type": "code",
   "execution_count": 1,
   "metadata": {},
   "outputs": [
    {
     "name": "stderr",
     "output_type": "stream",
     "text": [
      "Python-dotenv could not parse statement starting at line 1\n",
      "Python-dotenv could not parse statement starting at line 2\n"
     ]
    }
   ],
   "source": [
    "import time\n",
    "import pyautogui\n",
    "import pyperclip \n",
    "\n",
    "import selenium\n",
    "from selenium import webdriver\n",
    "from selenium.webdriver import ActionChains \n",
    "\n",
    "from selenium.webdriver.common.keys import Keys \n",
    "from selenium.webdriver.common.by import By \n",
    "\n",
    "from selenium.webdriver.support import expected_conditions as EC \n",
    "from selenium.webdriver.support.ui import Select \n",
    "from selenium.webdriver.support.ui import WebDriverWait \n",
    "\n",
    "from selenium.webdriver.chrome.service import Service\n",
    "from selenium.webdriver.chrome.options import Options \n",
    "\n",
    "# 크롬 드라이버 자동 업데이트\n",
    "from webdriver_manager.chrome import ChromeDriverManager"
   ]
  },
  {
   "cell_type": "markdown",
   "metadata": {},
   "source": [
    "## 사용법\n",
    "### Driver & Web Load"
   ]
  },
  {
   "cell_type": "code",
   "execution_count": 2,
   "metadata": {},
   "outputs": [
    {
     "name": "stdout",
     "output_type": "stream",
     "text": [
      "current_url: https://www.google.com/\n"
     ]
    }
   ],
   "source": [
    "# driver = webdriver.Chrome(executable_path='./chromedriver') # 드라이버 설치한 경우\n",
    "chrome_options = Options()\n",
    "chrome_options.add_experimental_option(\"detach\", True) # 브라우저 꺼짐 방지\n",
    "\n",
    "service = Service(executable_path=ChromeDriverManager().install())\n",
    "driver = webdriver.Chrome(service=service, options=chrome_options)\n",
    "url = 'https://www.google.com'\n",
    "driver.get(url) # 브라우저를 띄운다\n",
    "\n",
    "print(f'current_url: {driver.current_url}')\n",
    "driver.close() # 프라우저 닫는다."
   ]
  },
  {
   "cell_type": "markdown",
   "metadata": {},
   "source": [
    "### [Wait till Load Webpage(로딩 대기)](https://selenium-python.readthedocs.io/waits.html)\n",
    "> 정적 웹 페이지와는 다르게 동적 웹 페이지는 브라우저에서 해당 웹 페이지의 요소들을 로드하는 데 시간이 걸린다.        \n",
    "    \n",
    "#### Implicit Waits(암묵적 대기)\n",
    "> 찾으려는 element가 로드될 때까지 지정한 시간만큼 대기할 수 있도록 설정한다.   \n",
    "```python\n",
    "from selenium import webdriver\n",
    "\n",
    "driver = webdriver.Chrome(executable_path='./chromedriver')\n",
    "driver.implicitly_wait(time_to_wait=5) # 단위는 초, Default값은 0초이다.\n",
    "```        \n",
    "    \n",
    "#### Explicit Waits(명시적 대기)\n",
    "> `time.sleep(secs)`와 같이 자바스크립트 함수를 사용하여 무조건 대기하는 방법이 있다. 사용하기는 편리하지만, 성능(효율)이 좋지 않기 때문에 지양하는게 좋다. 대신 `WebDriverWait`를 사용하는 것이 좋다.  \n",
    "```python\n",
    "from selenium import webdriver\n",
    "from selenium.webdriver.common.by import By\n",
    "from selenium.webdriver.support.ui import WebDriverWait\n",
    "from selenium.webdriver.support import expected_conditions as EC\n",
    "\n",
    "driver = webdriver.Chrome(executable_path='./chromedriver')\n",
    "url = 'https://www.google.com'\n",
    "driver.get(url)\n",
    "try:\n",
    "    element = WebDriverWait(driver, 5).until(\n",
    "        EC.presence_of_element_located((By.CLASS_NAME , '클래스명')) # 만약 5초 동안 클래스명을 찾을 수 없다면, False(찾는다면 True)\n",
    "    ) \n",
    "finally:\n",
    "    driver.quit()\n",
    "```"
   ]
  },
  {
   "cell_type": "code",
   "execution_count": 13,
   "metadata": {},
   "outputs": [
    {
     "name": "stderr",
     "output_type": "stream",
     "text": [
      "/var/folders/tv/05qbcb8954z9x1yvqv_kr2t80000gn/T/ipykernel_30302/2484725597.py:5: DeprecationWarning: executable_path has been deprecated, please pass in a Service object\n",
      "  driver = webdriver.Chrome(executable_path='./chromedriver')\n"
     ]
    }
   ],
   "source": [
    "from selenium.webdriver.common.by import By\n",
    "from selenium.webdriver.support.ui import WebDriverWait\n",
    "from selenium.webdriver.support import expected_conditions as EC\n",
    "\n",
    "chrome_options = Options()\n",
    "chrome_options.add_experimental_option(\"detach\", True) # 브라우저 꺼짐 방지\n",
    "\n",
    "service = Service(executable_path=ChromeDriverManager().install())\n",
    "driver = webdriver.Chrome(service=service, options=chrome_options)\n",
    "driver.get(\"http://naver.com\")\n",
    "try:\n",
    "    element = WebDriverWait(driver, 10).until(\n",
    "        EC.presence_of_element_located((By.ID, \"header\"))\n",
    "    )\n",
    "finally:\n",
    "    driver.quit()"
   ]
  },
  {
   "cell_type": "markdown",
   "metadata": {},
   "source": [
    "### [expected_conditions](https://selenium-python.readthedocs.io/waits.html#explicit-waits)  \n",
    "> title_is, visibility_of 등 이미 만들어진 함수를 사용할 수도 있지만, 새로 만들 수도 있음.\n",
    "```python\n",
    "class element_has_css_class(object):\n",
    "  \"\"\"An expectation for checking that an element has a particular css class.\n",
    "\n",
    "  locator - used to find the element\n",
    "  returns the WebElement once it has the particular css class\n",
    "  \"\"\"\n",
    "  def __init__(self, locator, css_class):\n",
    "    self.locator = locator\n",
    "    self.css_class = css_class\n",
    "\n",
    "  def __call__(self, driver):\n",
    "    element = driver.find_element(*self.locator)   # Finding the referenced element\n",
    "    if self.css_class in element.get_attribute(\"class\"):\n",
    "        return element\n",
    "    else:\n",
    "        return False\n",
    "\n",
    "# Wait until an element with id='myNewInput' has class 'myCSSClass'\n",
    "wait = WebDriverWait(driver, 10)\n",
    "element = wait.until(element_has_css_class((By.ID, 'myNewInput'), \"myCSSClass\"))\n",
    "```"
   ]
  },
  {
   "cell_type": "code",
   "execution_count": null,
   "metadata": {},
   "outputs": [],
   "source": []
  }
 ],
 "metadata": {
  "kernelspec": {
   "display_name": "Python 3.9.10 64-bit ('study3.9')",
   "language": "python",
   "name": "python3"
  },
  "language_info": {
   "codemirror_mode": {
    "name": "ipython",
    "version": 3
   },
   "file_extension": ".py",
   "mimetype": "text/x-python",
   "name": "python",
   "nbconvert_exporter": "python",
   "pygments_lexer": "ipython3",
   "version": "3.9.10"
  },
  "orig_nbformat": 4,
  "vscode": {
   "interpreter": {
    "hash": "f7e437f51093040c186fe1fdf3815d5791d8856d54a1d09b959b5ae0e56a4015"
   }
  }
 },
 "nbformat": 4,
 "nbformat_minor": 2
}
