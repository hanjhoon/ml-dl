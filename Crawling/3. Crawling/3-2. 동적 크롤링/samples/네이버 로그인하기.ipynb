{
 "cells": [
  {
   "cell_type": "markdown",
   "metadata": {},
   "source": [
    "## Import 라이브러리"
   ]
  },
  {
   "cell_type": "code",
   "execution_count": 1,
   "metadata": {},
   "outputs": [
    {
     "name": "stderr",
     "output_type": "stream",
     "text": [
      "Python-dotenv could not parse statement starting at line 1\n",
      "Python-dotenv could not parse statement starting at line 2\n"
     ]
    }
   ],
   "source": [
    "import time\n",
    "import pyautogui\n",
    "import pyperclip \n",
    "\n",
    "import selenium\n",
    "from selenium import webdriver\n",
    "from selenium.webdriver import ActionChains \n",
    "\n",
    "from selenium.webdriver.common.keys import Keys \n",
    "from selenium.webdriver.common.by import By \n",
    "\n",
    "from selenium.webdriver.support import expected_conditions as EC \n",
    "from selenium.webdriver.support.ui import Select \n",
    "from selenium.webdriver.support.ui import WebDriverWait \n",
    "\n",
    "from selenium.webdriver.chrome.service import Service\n",
    "from selenium.webdriver.chrome.options import Options \n",
    "\n",
    "# 크롬 드라이버 자동 업데이트\n",
    "from webdriver_manager.chrome import ChromeDriverManager"
   ]
  },
  {
   "cell_type": "markdown",
   "metadata": {},
   "source": [
    "### 네이버 로그인"
   ]
  },
  {
   "cell_type": "code",
   "execution_count": 56,
   "metadata": {},
   "outputs": [],
   "source": [
    "chrome_options = Options()\n",
    "chrome_options.add_experimental_option(\"detach\", True) # 브라우저 꺼짐 방지\n",
    "\n",
    "service = Service(executable_path=ChromeDriverManager().install())\n",
    "driver = webdriver.Chrome(service=service, options=chrome_options)\n",
    "# 웹 싸이트 이동\n",
    "driver.get(\"http://naver.com\")\n",
    "driver.implicitly_wait(time_to_wait=10) # 10초 대기(로딩 시간 필요)\n",
    "\n",
    "# 로그인 화면 이동\n",
    "WebDriverWait(driver, 5).until(\n",
    "        EC.presence_of_element_located((By.CSS_SELECTOR, \".link_login\"))\n",
    "    ).click()\n",
    "\n",
    "#id.input_text\n",
    "el_id = driver.find_element(By.CSS_SELECTOR, \"#id.input_text\")\n",
    "el_id.click()\n",
    "# el_id.send_keys(\"아이디\")\n",
    "pyperclip.copy(\"아이디\")\n",
    "pyautogui.hotkey(\"command\", \"v\") # (\"ctrl\", \"v\")\n",
    "time.sleep(2)\n",
    "\n",
    "#pw.input_text\n",
    "el_pw = driver.find_element(By.CSS_SELECTOR, \"#pw.input_text\")\n",
    "el_pw.click()\n",
    "# el_pw.send_keys(\"비밀번호\")\n",
    "pyperclip.copy(\"비밀번호\")\n",
    "pyautogui.hotkey(\"command\", \"v\") # (\"ctrl\", \"v\")\n",
    "time.sleep(2)\n",
    "\n",
    "driver.find_element(By.CSS_SELECTOR, \"#log\\.login\").click()"
   ]
  },
  {
   "cell_type": "code",
   "execution_count": null,
   "metadata": {},
   "outputs": [],
   "source": []
  }
 ],
 "metadata": {
  "kernelspec": {
   "display_name": "Python 3.9.10 64-bit ('study3.9')",
   "language": "python",
   "name": "python3"
  },
  "language_info": {
   "codemirror_mode": {
    "name": "ipython",
    "version": 3
   },
   "file_extension": ".py",
   "mimetype": "text/x-python",
   "name": "python",
   "nbconvert_exporter": "python",
   "pygments_lexer": "ipython3",
   "version": "3.9.10"
  },
  "orig_nbformat": 4,
  "vscode": {
   "interpreter": {
    "hash": "f7e437f51093040c186fe1fdf3815d5791d8856d54a1d09b959b5ae0e56a4015"
   }
  }
 },
 "nbformat": 4,
 "nbformat_minor": 2
}
