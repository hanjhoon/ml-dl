{
 "cells": [
  {
   "cell_type": "markdown",
   "metadata": {},
   "source": [
    "## 네이버 쇼핑 검색하기"
   ]
  },
  {
   "cell_type": "code",
   "execution_count": 1,
   "metadata": {},
   "outputs": [],
   "source": [
    "from tkinter.tix import Tree\n",
    "from selenium import webdriver\n",
    "from selenium.webdriver.common.keys import Keys \n",
    "from selenium.webdriver.common.by import By\n",
    "from selenium.webdriver.support.ui import WebDriverWait\n",
    "from selenium.webdriver.support import expected_conditions as EC\n",
    "\n",
    "import time"
   ]
  },
  {
   "cell_type": "code",
   "execution_count": 41,
   "metadata": {},
   "outputs": [
    {
     "name": "stdout",
     "output_type": "stream",
     "text": [
      "총 상품 수: 46\n",
      "0번째 상품명: 10mm내외 두툼한 돼지고기 삼겹살 500g / 가격: 7,500원 / link: https://adcr.naver.com/adcr?x=EOOQLQfmMmzNJkQQxsZcFv///w==khPnSQKgUGRaiuDYJkvdk5P9rmopjebHVusiouEuUMIJMaU0j2yl/+R7v9/XrSY66pS9jwJ6DoNjQV+f2ce/taMazWLZyru5Xn2m6rcKjJ2Rqlxh4A6004bS0j0RP27PWbBsDSK24TXp590mVyLVGR0PYGevWpo6vIW1SxVT24A5dsRXuQ/IgjhwCG+/FkXMDP0m3XU+6pOhOXGMIJy1ORxXMEtmDm1VmojlvZHlyYxB3sxmXp8xXk7EtLJX3IWFphWfXoAoK8Z72b8OsCBedhT2lPhvXqTQ7VO3V+i34BZfYPxLN9VTYdSBYphZSrdKd3ggI5MdtXtykWmPKfhkBjwL7+Hm3Nebvgnug03I7o+3B+CEb1aCyMv/2S46i93wPXENLXCt4j0im21XM2Y4+EaOq/iyGH2AysoDPU1i8TSxS1Ddm/n0wrhAyMsExjyYJiuHrdHxasdONMJ5bPdZJyT3rQwyYW6mJrTEq9pwc4gj7jrtzAKpU803fBDyzkiaLK2jUhs7Jx7lKfplXB75E+Pg6CdBgDqHiCYforyUqW/JlSCAwcaek20EzizHW0hc8aY0mJIV9V+PQ+R6Gm1mANO4jSh+7gGreIWg82tfxepuft35PwLFKFoG11EcDRAGwg8M0sYWh7i/n0if+culQBYysEHk5JSswROh4ba76ZClkGAey7NnQE9xpTRs8BVCfY1iZD4Fc0u2R3SGvwb7pEqn9mhTjqvjX74JeL3GZcl7JQg07LlTQAjiYkpPq/wkJYoAJrZsGsi6yuWVGprgkiVepRcFCzNYq4vS6l5CSeyj78w++yLKh2E1b+XY7vm50q6sR3okAFebUX0XVNbMxo3NNke/BqrXyiZDVx6pl5x34ifxN8EM+hxv1uMPvCXKVIeK2bl0uK2CIdooekyLP8KLzoxAByWOSOGH+0bev2bo=\n",
      "1번째 상품명: 냉동 삼겹살 대패 냉삼 통삼겹살 수입 삼겹 보쌈 500g+500g 천지푸드 / 가격: 12,200원 / link: https://adcr.naver.com/adcr?x=EEd/rEjIE4NhRzLJd8/6lP///w==khPnSQKgUGRaiuDYJkvdk5Nog/kYNtUijlvlo6/xXUGBsKOG/GkEkFwRxIfY0cGcLY58TfhegxK+iBAYad5s01B+ry3aQsCj8h3Nf2HBtdwZDjNnTuWZZWNQMcDWRFPbDypt5XJ27VUOp2hd2RHRTszui+TUuoEIrrxdpmIwH15AVnR/HioH4eTOTOnZiL67TiY5pPEQvm/1vvLnZUecShEjsDJQptRfYwLLpQXojiTIoj2ikuZesm0DBGlnUIR39tH1PYnqPsGmiJCchAKmedKpvOK48g0Fn6N27o88pEhNvhaYxOf1FHI5vxGjyRa4eX3aYnFQ207IYrpDoc5E/YfeZKjaEygiodyb9SzckWxHCMqHPsp/SzoeRzrn72ko164XmoASZtrvmf92PsqR+5ItUgfxoEkwg5gfvLVUt7tglq1fUsUrNgBI8P/YrkZOaMmWu8MQn8dnewCm6OOUGO4QMmGFl2jarsoVrgbRHhSOv/x95rZp8gTh8bSycxj4jYe6Rg0wBSLUgH1STyTRkYYIb3wMTXMiRahIhclKKP7Jh90is8x6wI3spoaeCz31gZnLbtGlpjAEpFRZry8gANFjcBW6oFAX/k5gzTi8kanCtxMKt1ksHYmO7dKSdj2/tIYOvEu2AJgnS//F24EkFPfoJ442/BHFuVrEDzmHKvhjgb8nq9MIVJFYEsuuwautDz1pWj6YqISmJhkOB/1PSrkXreFRWtO9Om+CAuKkfRGrXVNGf0TfDiSKPP4OQmbfKw2gHDd6gK36jcDEUD2+NV7RYkZJRtgPUdwS9t5rUNZEwGbLe+4sGY2IPKFudOw2Y/Fd5rS/6vwg4buqJXvINaHpxRYCBablPpV1Um/zY7jdBBLVBnMlBfRruuDhVC8C3\n",
      "2번째 상품명: [삼겹살&김치찌개] 삼겹살10mm - 국산 | 당당한돈 (맛집김치찌개 2팩 증정) / 가격: 29,980원 / link: https://adcr.naver.com/adcr?x=CoxAHb/SvNF/qIsO1N77qP///w==k+SE0MSfA2W7EfdYgHIlJJEfl0InNzPB57xlBKE/0rO7/49h45AMgUGeIEiZHD/H5H1/sOUArlopb/cmcqY02gc/+PSYd05mtYgwP0eglhrTEA5HgH7XqSufzWXKHdEPAM6mS6YwAR20qbRJjCr8mRV2uPnzFLPHPzsGXfYI2Tlr5x9Ug4le7NXe9H9z8QXRAe2Abr40yQ9iV0n+pteJ/j5ioe0szKb+glVZrCmg+HAkz5ayG3KI33PK93eEclMls8T1zFZ8OKzPN+SobT39hMlGB1Y25Xzj+HShuCBuiwaPuGDa4oUQEkWLhv7UvopKXs+ugGD+r/oQ6/P9KnFJWbmkYpyW9jW2OKV2eW/fxJbXlbynNmtUbUllRfG3AFXmHL49G+KjZyDV/RtBvDlwUO2/HFG1H9TUgCWOTlF3xkbT1hC3s7Ukj82OSc86V/axwP1QpHpNPoh7+IVXuqiMOIbqqBuMKcg2vCXzrbLLxfJK+vHhqiaWOwhibUzN1oVFIQjZ1le8go644bwE658UdQS01jzOH/3ffeWV1i3ehUqLsaU0IdKN51QvItUb0ar7LcXWi+CKisT4dMIuRAe2mw2XK+GGaRmPGXqFucNZrYi7HuXkPXPISpxLwlyodXh2ZENY1hsYevVunIRhUMIT8e5CHT162FlWAe+c7JPc3si42HBurUbvg2jTufJQr+DJ7MSXf3ZCSb7hVfxbrON3eyLtXeYPfUBJrncpWb0SFRVZMOKMi02aWbO6Aeabrg4vjmJfEjL3XZKd0DwIiu54nXzZQslHDJcC6+pEScda4obmc0cZLK5Rp9iohaT7h8nYI\n",
      "3번째 상품명: 냉동삼겹살 구이용 보쌈용 대패삼겹살 1+1행사 1kg / 가격: 11,700원 / link: https://cr.shopping.naver.com/adcr.nhn?x=oAIFHR1UGkYsIG%2FopNDu2v%2F%2F%2Fw%3D%3Ds0CM3zacXshF%2FtEKd0x3urmTU5Q3JyE6xvPAve5rHFO%2F3thrgIiO5z9J%2BGpWn9ZDPAQBewwYEIVW%2BdtVuQ%2FcbChALHOh6KYQ55WXXjsTvraEDyIXbAKKcpN6yOcr%2BBrviqAPeOs3kgvoIjM3ztQOJg2FEV98CfAwi%2FgpsOD1fQ6BauFou6XqHVWbZADh1MXsb3tbux%2FCZh51q72KOu2gCX8gWmteo%2Fue3k6tIjStBjU%2B54J8UO7LDGXdPU9Do8oyMXmq0wb8nQ9S1CNyVqQgAyLkizRijk3B1yt1MVoxWZzsm8BnFKMzI2AONf4mKbvFtcW5JuJiHUTH84TyFl67V8Bl4jKJCjsGcceG8hKasW%2BiDYQeEm1PTh%2FRwkOO86%2BN%2BRFXmrB%2FuE4x6%2FbpisRxI5Us412Rotc%2BT5fgjQ3Woe%2ByyHZZJKY96qzVgqXmHPfGcaa5s1vVVxDxy2ZO3zcBOeg5cz51pvuC3pW30hcIps3PpL8oVcCqqgPAoSI%2FZgFWE5hCxTtO0BEGFMovpO9PUU3VgTqixTRNtmGx4Ok7g5PglTU2AOrlqwsVggCduiNywwhf%2FgtG5WLBAhSzlmONlxoVsN%2FiAcjmtIwlTUFZwg6A%3D&nvMid=82810684113&catId=50004652\n",
      "4번째 상품명: 삼겹살 대패 냉동 에어프라이어 통삼겹 냉삼 벌집 목살 갈매기살 항정살 / 가격: 4,300원 / link: https://cr.shopping.naver.com/adcr.nhn?x=IXanSixLqv9yiBxMgoi6tf%2F%2F%2Fw%3D%3DsOYc0ckRmWNOoFkQ7MLgLQ3O%2Bo812t0J5tn1UVleYxZLEsq12M8iX1gzqntfjJWf3cTJlGxLjLxWzZs3HLcDONzYE0byPnKRvdJ3RI4VBM6FB2k0SmDI9ccrCf%2FetWaWy%2FP%2BKmoyPpAFspJs8skztXMVIhUTYq2J1wF4XcKD2AOWkOA3ZateG%2FY8eKxwX1E0NYOTU%2F64QcJky%2BSOGmEI8Yp6NAUrNnYFIuOvge4cAf0NVXemfpmeX70wC2wQT5nyi5pxiwDZPU40LYzhHX%2FcRvwWBxCZstNPx9zRS0d0EfYyms%2FgBAdlenhKSA01LNPpAYxrxYSzz6IVkD3Il%2B4Y43MqvPKwshG8cw3K9qYrSi2jN81WjUpxJVJrN5mDsz4BpRh6KCM5syNpgPN8CZ92qO%2FTS4kEYUY6ItxPnrQSbBjZVeoPcFz9X%2FZK1fDudjL3O7dUDrJaHMZqLI9hsBxIuY9Cu98bKGIO3E0MQFY5RRBvCSWlf2H2Q6a6phn8P7hL1HSfJAR3WG6VxzYJjFZ77GISw1Oos7kL2qeCzdaffgoKDrgClekVxtSLNN1yS74gXBQxnTNlk7TNYXveH6iFdb1kgU2dMQjrpIo5xdnaRZYlu88MNLqFkKKMhXH5hFlNBaGimR4pR27mrh1IoDTOSgA%3D%3D&nvMid=82463308126&catId=50004652\n",
      "5번째 상품명: 삼겹살 통삼겹살 통삼겹 2kg 두께절단가능 냉동 수입 목살 대패삼겹살 목전지 오겹살 / 가격: 24,500원 / link: https://cr.shopping.naver.com/adcr.nhn?x=QbenChhFY00JkkNlAHbr3%2F%2F%2F%2Fw%3D%3DsZ7%2B4cuPWKt5OojI7FzTjoW78D3GkG9NlZSdltT1imuDEsq12M8iX1gzqntfjJWf3PN1qkAShOCy4QK2M1UxAgzYE0byPnKRvdJ3RI4VBM6FB2k0SmDI9ccrCf%2FetWaWy%2FP%2BKmoyPpAFspJs8skztXMVIhUTYq2J1wF4XcKD2AOWkOA3ZateG%2FY8eKxwX1E0NWcsJ1LPa%2FuqENX7nj3Q0i56NAUrNnYFIuOvge4cAf0NVXemfpmeX70wC2wQT5nyi5pxiwDZPU40LYzhHX%2FcRvzTndO%2BAIWtiaIxrk67ZdW1E7udZ7M%2FqFDdw0VqoYBwOYxrxYSzz6IVkD3Il%2B4Y43E%2FlYpHUdjDoHkcYkMQA74vN81WjUpxJVJrN5mDsz4BpwavJeZfdRSsuN0ixmf5jTTRhxZHlAf0%2Bqrh04FUiVngRunq2%2BD2lvqH0w5LxQ9rlNikuJrX2Y5VOTkEmHSEsocWkrN7pFFN4FUJ%2FP3udl0zHuCnpTT8%2FXDy%2BHRAZCCN1F22lwV6%2FJaZKjO%2BCzRtOqB0nyQEd1hulcc2CYxWe%2Bxi67ZQ%2BsUFx4ILOh9FGTV%2FwU4cPkS9df%2Fnx1sl80gkwzlSikL%2Fep0pywRbgxc7MS5WU5HxPELh8DgOZ92zLQbjSubOP1cDGSmJimzugWBGMWs2OqH9l6YII5ugOGfB4CYY%3D&nvMid=82723717807&catId=50004652\n",
      "6번째 상품명: 통삼겹살 통삼겹 바베큐 구이 보쌈 수육용 1kg / 가격: 11,000원 / link: https://cr.shopping.naver.com/adcr.nhn?x=JAtIRcVXJPiGi6ntlflGkP%2F%2F%2Fw%3D%3DsgGKvDLCPIp45NIG87ENMk3alY9te7dN4csYU2FfWk9bEsq12M8iX1gzqntfjJWf3ZuCmmdL7%2BcXTgncGJFtE0jYE0byPnKRvdJ3RI4VBM6FB2k0SmDI9ccrCf%2FetWaWy%2FP%2BKmoyPpAFspJs8skztXMVIhUTYq2J1wF4XcKD2AOWkOA3ZateG%2FY8eKxwX1E0NETh%2FhUjMnNj2TYqjQOFPCp6NAUrNnYFIuOvge4cAf0NVXemfpmeX70wC2wQT5nyi5pxiwDZPU40LYzhHX%2FcRv01NM1bYJKA1iZTwnKMtCT0Z9WBZQknyUvNLTIrCXJhdYxrxYSzz6IVkD3Il%2B4Y43FbhBhp8kAmpTYsdJzLqulfN81WjUpxJVJrN5mDsz4Bpz0R19KhIqsN3V2gBsugHzuuXKJwLMsppRKuhtsKC8L8FdISDXWTUlLUpvBx0r3UeK6yqppscucOUGa9AV2ZtJQ1cF1chPIVLcTElPF6b6yWvgeEbjhKaIJZI26jWXHjMq%2B1QG9%2BhKxA%2B8QzplZRlOrq6NR54e6F9IzgbToGKAaMyyCXw3NqmlDDj1iPfehM2R04YHWfHkWADf%2F1pvpMYsw4SwcLvxUEucVmH%2BcOht40%3D&nvMid=83591654217&catId=50004652\n",
      "7번째 상품명: 명육당 솔트에이징 숙성육 돼지고기 삼겹살 200g / 가격: 5,690원 / link: https://cr.shopping.naver.com/adcr.nhn?x=2%2FHUnPGSokUwCO31f%2FMHDv%2F%2F%2Fw%3D%3Dspl3coMJZtyowVL%2BAzTjsdWmYve6YD7FAORxAiQcdpan3thrgIiO5z9J%2BGpWn9ZDPOg7VEp4lw%2FNQhahXA52swBALHOh6KYQ55WXXjsTvraEDyIXbAKKcpN6yOcr%2BBrvijwt%2FNmGKS5GDSR%2F6PN6KAlVd6Z%2BmZ5fvTALbBBPmfKLguQXqc0tNBo5vCJmBaBuvJ%2BeB855HpU%2Fo%2FyfIlTypMliDkYPqKDpKzgAfRIkhG5nBVXKDvaP3MSLJ36UAwARgno0BSs2dgUi46%2BB7hwB%2FQ1Vd6Z%2BmZ5fvTALbBBPmfKLmnGLANk9TjQtjOEdf9xG%2FigfoGvnEsMvlUzypzgLy27NoujdiiNe5Aky91pn4j%2FKDu691CEO0eZtDqAZ4EpF4XHln7BKnghDksjQYx8eP2LHJM06m8XkkoABSxxLFFelIz%2BMEr3mZabiG9LT5Hv0Sb6QETBz8Fr3kCmVcYYC4W1%2BEtdOwPKM3imO5I4ckPcXZS8mixArOMRp9ireJZh7i%2F%2BVXXKNpNAXftdzfzh7hGvXiR9GJASX3WbMDODGY3EEfrWzriZf4mZ%2Fw43BJ8FvADWrhHEcp0p%2F%2FKKziu53PdOiOGBrazKtii%2FtMBu5JqvLJk%2Bu7QjtF%2FtxbxX4QkbP7V3OdHgSE8LoEjTx9zpNPbFaRsOtQUnaEEbxBoHxZXOc%3D&nvMid=26869665528&catId=50004652\n",
      "8번째 상품명: 한끼승부 삼겹살 대패 냉동 냉삼 통삼겹살 수입 통삼겹 1kg / 가격: 16,900원 / link: https://cr.shopping.naver.com/adcr.nhn?x=86zvXAf2Dug3bppjOqh0Mv%2F%2F%2Fw%3D%3DsyFE0XgHJ2spBFPPvUKI47eNb33E3Xt1lW0tjC01kQejEsq12M8iX1gzqntfjJWf3CjZ2cLN33r81XpsQAq4eOjYE0byPnKRvdJ3RI4VBM6FB2k0SmDI9ccrCf%2FetWaWy%2FP%2BKmoyPpAFspJs8skztXMVIhUTYq2J1wF4XcKD2AOWkOA3ZateG%2FY8eKxwX1E0NrwO8vBVeMUVnRiWtn9UwTJ6NAUrNnYFIuOvge4cAf0NVXemfpmeX70wC2wQT5nyi5pxiwDZPU40LYzhHX%2FcRv9ZsUNUGFHsrdt8l8%2B6Sk%2F2CKeLYGCg3YvT%2FWi45iHCQYxrxYSzz6IVkD3Il%2B4Y43LlOibxDP4XhiPO0d3Nu2sjN81WjUpxJVJrN5mDsz4Bp1Aqs1dpFsAZKTUqlOl3oxjRSh2H2h3RSJYN3BpOtG3t2mY6F0uevdbKYYQoS0ZInlB%2FFLGNuZq0S045kC5T0pmDWOaNTGuWEej8LNE5mgqAOXM%2Bdab7gt6Vt9IXCKbNznieuzchuUIEffgB%2FIlCytOYQsU7TtARBhTKL6TvT1FOiFF6S%2FxMDoCMZyWj6QGEjq8y5ZoWWws4hakwkTJSYzu1SJIYiiBy1wvboPJNn3hiFbDf4gHI5rSMJU1BWcIOg&nvMid=83956154759&catId=50004652\n",
      "9번째 상품명: 삼겹살2kg 항정살 등갈비 이베리코 오겹살 듀록 통삼겹 냉동 통오겹살 / 가격: 24,200원 / link: https://cr.shopping.naver.com/adcr.nhn?x=l5pa2cqbfMmI7E4BqiHetf%2F%2F%2Fw%3D%3DsHT%2BsXUNYdJQl0%2F8E6jF8iifZ3Q5bzr%2FoTIGZ403YIKjEsq12M8iX1gzqntfjJWf3OoS1f1OTplyAAP2oN6V0BzYE0byPnKRvdJ3RI4VBM6FB2k0SmDI9ccrCf%2FetWaWy%2FP%2BKmoyPpAFspJs8skztXMVIhUTYq2J1wF4XcKD2AOWkOA3ZateG%2FY8eKxwX1E0NIW8GFMDbyLVeziugoq6MW56NAUrNnYFIuOvge4cAf0NVXemfpmeX70wC2wQT5nyi5pxiwDZPU40LYzhHX%2FcRv%2BmEmCbX9LU%2BYhPahg3czBphNAxeD5qZKCqS4Kd979yO%2BrIapIW4a96vgdyNnOilQkXhA%2FUKAcX8bB0SeDce%2FXeMHn7BDBNaqXNmoKbAeTMvHEmGtYH8jeMJ%2BS7%2F6QVjnLnKFq6IhFyl9K9FX7jNbW4XxvEbbzfJXodU2Sy%2FJTE0mOZ8tQAiIRJeO3fcQA4Gp9DEmo2MuN5TS3FC0lRuMAY4p511zEg0kHs1wBhQHHHBdeyilQprwUU7ZmRZLr4kbmT7mo4K2rC1aVK1LrfzZ48P7UbNjIJABWwM7q6UxJuWNzOr9glqDLsnWCEgwt%2BdevsVBLSLcHZanIV36urLY94UovtxIOI%2BOLDKEiVQqea2gqgOvq6z5EpEI5N2xav1Mg%3D%3D&nvMid=83600770944&catId=50004652\n",
      "10번째 상품명: 이베리코(1kg) 항정살 목살 갈비살 듀록슬라이스삼겹살(2kg) 캠핑 업소용 해담솔푸드 / 가격: 23,800원 / link: https://cr.shopping.naver.com/adcr.nhn?x=SAAWSK%2BZitGWnKs7QG765%2F%2F%2F%2Fw%3D%3DskST4Ge1bM1RCbK%2FuGvkbCUrT4zXZf6V%2B5DKb4J1LErv3thrgIiO5z9J%2BGpWn9ZDP0oBGuaU9twOruOqubQsBQhALHOh6KYQ55WXXjsTvraEDyIXbAKKcpN6yOcr%2BBrviqAPeOs3kgvoIjM3ztQOJg2FEV98CfAwi%2FgpsOD1fQ6BauFou6XqHVWbZADh1MXsbGWJnNyOmdU0U7Cbo72bc7cgWmteo%2Fue3k6tIjStBjU%2B54J8UO7LDGXdPU9Do8oyMXmq0wb8nQ9S1CNyVqQgAyMKOINJO7Ok9jWfpYgggjJ6Kk3pKzJBTg0A3CjIvNDzhcW5JuJiHUTH84TyFl67V8NWE89oAtYuDPDzri5rFbLi9RJ%2B03yW7bAbNpylo52lLuk5AJIxT5q4HdPG9wuZ5nz0XTghos4AQMJFalAgSJc%2FrzMuPMCzReFHv0EU4S6N0CscGQEKZh6VbV4Tqfj02QRFoAf03koNT3dlpJy2LmFLwR%2BaMsBtYFmL0nm0Y4aKxbdll6a%2B9szMbijy95CeYDCkqj4%2Bc%2FEM9dmHQOM9x5zqzYEGYi3x9G30vcB4LCgQTdYhDW7fO3QYVpvmvMhaWw8c%2B7I48SJJlg9uuX8hPPQoeNulDXeUJRi70NqnI3R5afnFHM7KrzEq%2Bau4AxbiTeR0cjwVm1BUYVknE7IEMpz4%3D&nvMid=82999610775&catId=50004652\n"
     ]
    }
   ],
   "source": [
    "chrome_options = Options()\n",
    "chrome_options.add_experimental_option(\"detach\", True) # 브라우저 꺼짐 방지\n",
    "\n",
    "service = Service(executable_path=ChromeDriverManager().install())\n",
    "driver = webdriver.Chrome(service=service, options=chrome_options)\n",
    "# 웹 싸이트 이동\n",
    "driver.get(\"http://naver.com\")\n",
    "driver.implicitly_wait(time_to_wait=10) # 10초 대기(로딩 시간 필요)\n",
    "\n",
    "try:\n",
    "    # 쇼핑 메뉴 이동\n",
    "    WebDriverWait(driver, 5).until(\n",
    "        EC.presence_of_element_located((By.CSS_SELECTOR, \"a.nav.shop\"))\n",
    "    ).click()\n",
    "    \n",
    "    # 쇼핑몰 검색창 선택\n",
    "    search = WebDriverWait(driver, 5).until(\n",
    "        EC.presence_of_element_located((By.CSS_SELECTOR, \"input._searchInput_search_input_QXUFf\"))\n",
    "    )\n",
    "    # 검색\n",
    "    search.send_keys('삼겹살')\n",
    "    search.send_keys(Keys.ENTER)\n",
    "    time.sleep(5) # 검색 결과 확인 \n",
    "\n",
    "    # 무산 스크롤\n",
    "    before_h = driver.execute_script(\"return window.scrollY\")\n",
    "    while True:\n",
    "        # 맨 아래로 스크롤 이동\n",
    "        driver.find_element(By.CSS_SELECTOR, \"body\").send_keys(Keys.END)\n",
    "        time.sleep(1)\n",
    "\n",
    "        after_h = driver.execute_script(\"return window.scrollY\")\n",
    "        if after_h == before_h:\n",
    "            break\n",
    "        before_h = after_h\n",
    "    # 상품 정보 리스트\n",
    "    items = driver.find_elements(By.CSS_SELECTOR, \".basicList_item__0T9JD\")\n",
    "    print(f'총 상품 수: {len(items)}')\n",
    "    for i, item in enumerate(items):\n",
    "        if i > 10:\n",
    "            break\n",
    "\n",
    "        name = item.find_element(By.CSS_SELECTOR, \".basicList_link__JLQJf\").text\n",
    "        link = item.find_element(By.CSS_SELECTOR, \".basicList_title__VfX3c > a\").get_attribute(\"href\")\n",
    "        try:\n",
    "            price = item.find_element(By.CSS_SELECTOR, \".price_num__S2p_v\").text\n",
    "        except:\n",
    "            price = \"판매중단\"\n",
    "\n",
    "        print(f'{i}번째 상품명: {name} / 가격: {price} / link: {link}')\n",
    "finally:\n",
    "    driver.quit()"
   ]
  },
  {
   "cell_type": "markdown",
   "metadata": {},
   "source": [
    "### 사용자 함수 사용하기 "
   ]
  },
  {
   "cell_type": "code",
   "execution_count": 5,
   "metadata": {},
   "outputs": [],
   "source": [
    "class search_item(object):\n",
    "    def __init__(self, locator, search_item_nm) -> None:\n",
    "        self.locator = locator\n",
    "        self.search_item_nm = search_item_nm\n",
    "        \n",
    "    def __call__(self, driver):\n",
    "        try:\n",
    "            search = driver.find_element(*self.locator)\n",
    "            search.send_keys(self.search_item_nm)\n",
    "            search.send_keys(Keys.ENTER)\n",
    "            return True \n",
    "        except:\n",
    "            return False "
   ]
  },
  {
   "cell_type": "code",
   "execution_count": 10,
   "metadata": {},
   "outputs": [],
   "source": [
    "class select_items_info(object):\n",
    "    def __init__(self, selector_dict) -> None:\n",
    "        self.selector_dict = selector_dict\n",
    "\n",
    "    def __call__(self, driver):\n",
    "        try:\n",
    "            # 무산 스크롤\n",
    "            before_h = driver.execute_script(\"return window.scrollY\")\n",
    "            while True:\n",
    "                # 맨 아래로 스크롤 이동\n",
    "                driver.find_element(By.CSS_SELECTOR, \"body\").send_keys(Keys.END)\n",
    "                time.sleep(1)\n",
    "\n",
    "                after_h = driver.execute_script(\"return window.scrollY\")\n",
    "                if after_h == before_h:\n",
    "                    break\n",
    "                before_h = after_h\n",
    "\n",
    "            # 상품 정보 리스트\n",
    "            item_list = []\n",
    "            items = driver.find_elements(By.CSS_SELECTOR, self.selector_dict['items'])\n",
    "            print(f'총 상품 수: {len(items)}')\n",
    "            for i, item in enumerate(items):\n",
    "                if i > 10:\n",
    "                    break\n",
    "\n",
    "                name = item.find_element(By.CSS_SELECTOR, self.selector_dict['name']).text\n",
    "                link = item.find_element(By.CSS_SELECTOR, self.selector_dict['link']).get_attribute(\"href\")\n",
    "                try:\n",
    "                    price = item.find_element(By.CSS_SELECTOR, self.selector_dict['price']).text\n",
    "                except:\n",
    "                    price = \"판매중단\"\n",
    "\n",
    "                item_info = f'{i}번째 상품명: {name} / 가격: {price} / link: {link}'\n",
    "                item_list.append(item_info)\n",
    "                print(item_info)\n",
    "\n",
    "            return item_list\n",
    "        except:\n",
    "            return False "
   ]
  },
  {
   "cell_type": "code",
   "execution_count": 11,
   "metadata": {},
   "outputs": [
    {
     "name": "stdout",
     "output_type": "stream",
     "text": [
      "총 상품 수: 46\n",
      "0번째 상품명: 삼겹살 목살 300g 단위 소분 포장 수입산 돼지고기 / 가격: 3,900원 / link: https://adcr.naver.com/adcr?x=XDQzYZNJlbeqj0MuD74Rrv///w==k2WVaPW6lUepRj9pz9lyGSZtohMwWEteyZG318Ri+xuLIpGsbpsfZxgcxRoOEKRcnF7uKifDEK+HioGEoJhIkZCAl6zUeYNox2oMC223UgriW02oXONS3yr84mL+SWea+RBn3BI5opLZVAlf/aQuKntEAGZG2AB9kGbuaNL7gXgqHHDYS0pc5Iq+/kyu1ckAlBQY+2AHj/tRCJzvIR7oDuCHZln5/tMwTdfIa8uu+kRRzDcIfarbJszkfHG18QoHsK+M5DEeqZb1P4acGDb/QAzEcohtaZlHAhW35kvq+yYbib0w3n79TMRRXjS2zgAOm3Gg4gJ4USN/ESDMEsSk9M8fW6ebv7aA9ToquraSvmlocpH2beBZR698qTOnZwJGLqDIK2v7rF5CUdcr4pkTizVMFII2KhlBHYYdKRCTpoVB2ki4nwizBj/VHQ4xEcpeCwhVEmZvZFeQ6kPmihEePuEx1nJlkhHJU16E/VzsYpYGyny53mj/wN0ET1zLQjOHB4aI9XKtaWatFhXpUZrZtQcQh4HaUycuvrTKgckuRlZCQ7git8iUgZot2o77rAzKBeEZ4wt45grW6C6eljI1d/L+RRxY3TRPvEJHYeDzz+f5X74JOkw3LoRz2/zJjNSzOx8tmiHDmotrqD1QoNOy7RtdHLM9uP5g+2J5fgJcN8BYsuuE+KBUF85u2MKEBybgDjn/n4eVESBmMcPhh51yl2KgYlH3H8uPQzwcZiTlXbIeJWdud96ZsL6eoh3xsZ2aC0zfCv/VfIXKQFMLdKOy7ojb/Ab9oHTjjc+TUFr/KooIfAz2u2gCMzoLWuOM0xI3klfVPGBY4sdM/K5Y+BoTIEH+CJtfuGzcM1ngiwz1jcOpB7NumbHRA+TrV/YXcTxPcz1w2VSk15KAH4VyLX90AoqLzoxAByWOSOGH+0bev2bo=\n",
      "1번째 상품명: 10mm내외 두툼한 돼지고기 삼겹살 500g / 가격: 7,500원 / link: https://adcr.naver.com/adcr?x=xehBpRp6oxgAXGoesWxeJP///w==kl2vZb6WCpLlq6gtl+Onjg36Uz0V9B45RWd63H1zVoGPLM3QGeGB2ZuoVs+NlFHEXf1I/anToBFTZzFVx7ZdxJpB/vFSl8vt78L9nOP9mfYKpsPT8O+fqgcHMS8PDT4yakMFyi5HHJ2X6FYRPG3JNGQoY9S511ONdDL/YVIKe+qaPtlhGlp9vGD+Er8yP6Bsuxu+NQjarCYjPmcUJws0hDvxKqxxMyCbhRQZrcC8HLUsVG7cI9mHFljNSP4HnO7GAd0vkPrfVJpMOlIK8jB2OY0jb7K2VA7GGpTSdTMV5YVb4j2fPc4/MI16qDXI0v4gC4pnfM4iZuC49IyO+VpNWf1s7kESSIVgz2g/zRhV4uFhANfxfsFK9O6ucA10qTo1Xyp9swkqIwF0CSCBWgBKZ8ItdKwCb6qyVZ7V3LMDdTA4XabA0HJy13yGhBvZmUEcrHeVpt1hXXDFxnpJQZQsDBg+/34p9K3bADRBWjakCyyOFiwYxA/Tz642GZEDi/YTU9dFMXy+znr02v4KmEYtJZuFfq6mZ0wcpptiKEkz9Dqk1hRlP9t7Thrspsb6I2nD/mZZ62Cdpw2Lsxkw2Suiz1VWZUGpPECr/j61TBy9DWHdMB2BZYzIYnoEzsN7fxQ+mK4JXhkT4bj9dSFGdsyfe2ZFCHcCaNxNAFTvrRY4kYiPj+YfUylI5mf+i0rGMs2jj8a0znldzFk5HQZthiYzoWZR0VfEIUxuG6CayaBHT1QeNAlfh8LBY0SfD0QSTAlzIX6a/Encan6UztUYfJ+93YY6ce8lmpFSO2lrYMaVY7W4zCtAfCsjIaRuktSM8cU3fOyhBDzyiz4zp8rc9IK91Ev4EkcvYRq3U+fE+vhw5UyS9h9d0eloAAzWWiVtBwYhGu5z+d/YjbFIqpj1MThmYEA==\n",
      "2번째 상품명: 냉동 삼겹살 대패 냉삼 통삼겹살 수입 삼겹 보쌈 500g+500g 천지푸드 / 가격: 12,200원 / link: https://adcr.naver.com/adcr?x=lzdNSgEGOkuuVNm9GFcvDv///w==k0OwW3jOMMpkzDsq737pBNG3g/WY4zO+l8laDIPHytxTDI8X/OZCCDjXweel0xTxaObneLHbs4fw6j5VQaLdXgHfWLArf7A8O0poJAY2DuWaueQUsnxSx5tE2tIk2t0vsAkRbHgbYG67HsaX67BdeRHVh8WnpBR4YP6gWscJ+2KwgBqt6hn00DRmj4yrLkDE6EHRzob3pJOWVLU11TtfdRRNWVEOfWYr5L5uR0Zye7n+PAitcv3ZAU1fNeHkY3uJuPCmwedh7fSw8SSBzHy4PGl2B7KRYw96qCo0BXsS54g+eeRmKxmB1DsHP3co4ATwdRa8cIlPuP6FsM0DJdh/FHlOvRyuCwnBZ+sCHkDCePn8D+9HOQwyStVUHKFBLr0vWjlY3TlQejIiimddlE7lvv88vCV4RART7eXKwkur3BJ0d67ezo+grq4C8WU/vtGFzmV4JYNTdbwDorBfc4+fwUMPGqgcsYtIUkuXixO++pbuDGlbXe3PxVXpKX7xrqNrFSE/PuWAjqGRH7N/7Kr6CppDj7gIufaPXlVjHKWuGF8TjjT75DOarSfLvh+t+pre5YfevW0Lg+SrAx59yjq9wRkPrJqmKMXE4IkaTSYUSDQiMtqoaLKhBhfO7dVmbaTd14iGxyBrMY+hCR+6mxVsku0xS9yggGY7JamWZ41S1yAXVg6LaDq+UNeZXeDgmwsx1e3oGh0m9iWgRJ9mw66PO/XEJN/hCKqe52/5/HyndnwM/kkWKD8XDZOwGj89b6SagvuX8GiTMpwHZMJiWnRZ73mBq8GZ15AoRPW4RZOAIqRF+iJNlVbKgUg+PjgT3fFjLcGXJF0K44xETq7rL2iNVAfQN+pnlTgYC+/9GCTqfonbs0HM9WWerzcsfU/zUHsy3gHek3cA1syk7nAU/8GmlvQ==\n",
      "3번째 상품명: 냉동삼겹살 구이용 보쌈용 대패삼겹살 1+1행사 1kg / 가격: 11,700원 / link: https://cr.shopping.naver.com/adcr.nhn?x=gsjag2e61i9Eq%2BJ3JO7IiP%2F%2F%2Fw%3D%3Ds0Dp3t0It3Y%2FB1JpqTlMepV28Kz%2BtlQFMGkEiarV4ahbEsq12M8iX1gzqntfjJWf3Hpk2QjWOTYn3I%2BCzotNsZAV%2FMGNDjPUJ21EpowYJOeZvwiQQWfI2gIEa5Sz04A7v4cB4in3%2F9Re43sSai8DYm8VIhUTYq2J1wF4XcKD2AOWkOA3ZateG%2FY8eKxwX1E0N%2F%2BiIHmdB61DtbT3c%2FviOcZ6NAUrNnYFIuOvge4cAf0NVXemfpmeX70wC2wQT5nyi5pxiwDZPU40LYzhHX%2FcRvw3vTUljXKGimiHRUGC32PjCdivx6Wdiy3%2FEf4VHROkO%2BrIapIW4a96vgdyNnOilQqRsWFX9BCQl2f3AsbaP47yMHn7BDBNaqXNmoKbAeTMvPq0jGWHccBOVwxgGCPfqUZUBoHlw06ONbAwxvYtVmPecIgUHzeo3hfZlRB10Ph7YlJeR6w5YXGy2%2Bd4fmJRa7xUmC%2B6EnlAhWYnm63u4gznggKzfkS13r7G0UOixb11xHMvj8%2FxmIvFrSG3eOI4jfKgmItilxAxEr0azWh2%2FwkzqGOd0NY8vcluIrJB6kBepYwt9KLrUy%2FT2ztwcvYmp%2FM2OqH9l6YII5ugOGfB4CYY%3D&nvMid=82810684113&catId=50004652\n",
      "4번째 상품명: 삼겹살 대패 냉동 에어프라이어 통삼겹 냉삼 벌집 목살 갈매기살 항정살 / 가격: 4,300원 / link: https://cr.shopping.naver.com/adcr.nhn?x=67ofcCNj%2FGT2IlpotunUQf%2F%2F%2Fw%3D%3DsryyVYw8DUM6gZB7LjCJqKcZvkjK4X21M74Z8ju9%2BkxL3thrgIiO5z9J%2BGpWn9ZDPiegCJYSi%2FDs4lQ%2FczQGgmOT8hQiZ7EVN%2BK5XRtzDz5TAku47hypJzY88H8c0S9ibEgV51j2E28Vz03B5l%2B9F0WFEV98CfAwi%2FgpsOD1fQ6CLZg%2B836fvR7S%2FYhR6nHLLaA7R4%2F4pVq2%2BmbAchqy%2FqMgWmteo%2Fue3k6tIjStBjU%2B54J8UO7LDGXdPU9Do8oyMXmq0wb8nQ9S1CNyVqQgAyLg0MN55rXynoope6GPMB4rvq%2BiTKODhXZ5GES%2B5N5Ncg7uvdQhDtHmbQ6gGeBKReAmCttzct3XP2HhcdO8GPSsDeqEwReF0buq5Z3l2WBfBNFKHYfaHdFIlg3cGk60beyB1hl3mRgelJGc1uySwr0DM4pPTaGesV2S%2BNiMH9I%2B5mtIMBn3dkUwbB7Pqm9CBtn0ZQ2u4aoS0E%2BCtT23oCE%2FXJ93%2BqdBkwkhfyjHXdLweDlzPnWm%2B4LelbfSFwimzc34OWdJw1zuh%2Fkt%2BD3oQHXer7VAb36ErED7xDOmVlGU6b587Mw8d%2BX6xdQDCsAz2P1uLp34ReLUbs%2BHZBpAQtt8QsDh43UN39iv15b4ZuoZKgqgOvq6z5EpEI5N2xav1Mg%3D%3D&nvMid=82463308126&catId=50004652\n",
      "5번째 상품명: 명육당 솔트에이징 숙성육 돼지고기 삼겹살 200g / 가격: 5,690원 / link: https://cr.shopping.naver.com/adcr.nhn?x=mKG4ZoWQbLx1BEsfQqHuX%2F%2F%2F%2Fw%3D%3DsR%2F5xzFI08c2Pb76JA0eb4A7xKjxQT2296ZKfUnt6O6fkMrRKmuduNvCZo0Dn%2FZkIx9Ogeo89XTPXC2yyl5pG0hOKfx4qOAGTkR1phFOrwmdfl%2BaIFlUssapisT2iU20YkY83AZJxWDD8DHYJLK5r6t9%2BKy%2Fm0d%2BgYWHtEf61Jo5CNclKwvLyA%2Fys%2F%2FHPPajLMdjEkq5vX629UKGfvTshDSWPYtSaAUV8wg1YTJifcchwl0ArIsX0VHmkL%2BpwKgnEMiG7QOiv3XhkfPsYDkOkGt9%2BKy%2Fm0d%2BgYWHtEf61Jo4AUk0tbEb%2BPaAR8Zvsauh4PVq2m%2FPWyTTMJVmWpno1pVLRcFrlsllqc6yyK4%2Fp5hXKRyvq%2BfDUs63OSxYfmA1XFwR52Q5ZgXr8XJq4D9o7jZvPzcXjGA4ZLLjAipv%2F2VbSmxDtI8E5RJAu4W9WTT4GDayySYlVEValngMmHFzE0xY3ubMlkpPRpVwScKs%2FSQn9918E%2BSH87ejYGVV0byd7oU%2FuYVMGXEx9IVWYc%2FrICy%2B%2B9WncZCtG0hS3mgpKOnVzQPAPm4AeEuRj625rtwL5lXXYsg3ih1gIY19KnFH530XK9eSrcuH5hsQdqUmjCXUmJAhtF4daOfb8v2vQXU%2BIpFItokkz2cy2Psla8p8%2FhEHQIiXcF4qwUXZ2sX76wW8%3D&nvMid=26869665528&catId=50004652\n",
      "6번째 상품명: 통삼겹살 통삼겹 바베큐 구이 보쌈 수육용 1kg / 가격: 11,000원 / link: https://cr.shopping.naver.com/adcr.nhn?x=2VUsUCiCMXV3x96YYw1MJP%2F%2F%2Fw%3D%3DsSaX7u48g28W7vWBCtGWLS3alY9te7dN4csYU2FfWk9bEsq12M8iX1gzqntfjJWf3jZgNagcdEcopWii39Z2f4AV%2FMGNDjPUJ21EpowYJOeZvwiQQWfI2gIEa5Sz04A7v4cB4in3%2F9Re43sSai8DYm8VIhUTYq2J1wF4XcKD2AOWkOA3ZateG%2FY8eKxwX1E0NETh%2FhUjMnNj2TYqjQOFPCp6NAUrNnYFIuOvge4cAf0NVXemfpmeX70wC2wQT5nyi5pxiwDZPU40LYzhHX%2FcRv4H7%2Ftg93lhnOnMs80C0eJYZ9WBZQknyUvNLTIrCXJhdYxrxYSzz6IVkD3Il%2B4Y43FbhBhp8kAmpTYsdJzLqulfN81WjUpxJVJrN5mDsz4Bpz0R19KhIqsN3V2gBsugHzuuXKJwLMsppRKuhtsKC8L8FdISDXWTUlLUpvBx0r3UeK6yqppscucOUGa9AV2ZtJQ1cF1chPIVLcTElPF6b6yWvgeEbjhKaIJZI26jWXHjMq%2B1QG9%2BhKxA%2B8QzplZRlOrq6NR54e6F9IzgbToGKAaONE8HNxc7UJkjiXYQSePthdG10cQUFSTJeBf4Qj9gVYA4SwcLvxUEucVmH%2BcOht40%3D&nvMid=83591654217&catId=50004652\n",
      "7번째 상품명: [6다이닝]이베리코 5구 혼합 선물세트 플루마+목살+항정살+황제살+듀록 삼겹살1.25kg / 가격: 46,800원 / link: https://cr.shopping.naver.com/adcr.nhn?x=85ea3lJOd0PDcSAvLDdOgf%2F%2F%2Fw%3D%3Ds5NamPeQ76pSNzalLibEcXqi4ViCPQnrX5aJ9SHJVttzEsq12M8iX1gzqntfjJWf3EmRhqzc4p3JI1Q5Ug82c%2FQV%2FMGNDjPUJ21EpowYJOeZvwiQQWfI2gIEa5Sz04A7v4cB4in3%2F9Re43sSai8DYm8VIhUTYq2J1wF4XcKD2AOWkOA3ZateG%2FY8eKxwX1E0Ng6JliWviu7kBeg9u01S10J6NAUrNnYFIuOvge4cAf0NVXemfpmeX70wC2wQT5nyi5pxiwDZPU40LYzhHX%2FcRv78KbRLBZGw0kSIzyOSxs8IYRLNEfMDb9Fr%2Fhfez%2FVZk%2BrIapIW4a96vgdyNnOilQquFOahfm6I7PXrvQZ0IO7mMHn7BDBNaqXNmoKbAeTMvjLFgFdMTPq3CRqDWD1bVmxaknoH0Y9PVVzDQCQdR%2FVtCSdqGivRGAjOa5BnnvHi3GmElMq9pmg%2FOrsaL0dBRiZoBNUzAyBvfv37uGvhrCdJzorLGSLHTuLyXdZZu%2FrjoCBkiM1%2FoR%2Fsquk1qCbyzTHrpOXlzvnr%2FRQCTS9UJudkY4CVYFp4o2MXd2IHXeBVYq%2B1QG9%2BhKxA%2B8QzplZRlOmaUbd1wJUOLwN86UnssoLe0g24EF8TCKtbUVyOrDbD7HduLP3p2167eRkuzQvCYtg4SwcLvxUEucVmH%2BcOht40%3D&nvMid=83315385955&catId=50004652\n",
      "8번째 상품명: 삼겹살 통삼겹살 통삼겹 2kg 두께절단가능 냉동 수입 목살 대패삼겹살 목전지 오겹살 / 가격: 24,500원 / link: https://cr.shopping.naver.com/adcr.nhn?x=vz5rD5c%2BC8TGQTC8%2BP4pRP%2F%2F%2Fw%3D%3DsenQ2ofAQ4e5ha%2F44roF7qG78D3GkG9NlZSdltT1imuDEsq12M8iX1gzqntfjJWf3xlrhdyUuaS7zBu02MnHwNQV%2FMGNDjPUJ21EpowYJOeZvwiQQWfI2gIEa5Sz04A7v4cB4in3%2F9Re43sSai8DYm8VIhUTYq2J1wF4XcKD2AOWkOA3ZateG%2FY8eKxwX1E0NWcsJ1LPa%2FuqENX7nj3Q0i56NAUrNnYFIuOvge4cAf0NVXemfpmeX70wC2wQT5nyi5pxiwDZPU40LYzhHX%2FcRv3DJrp%2Bqxxoho%2FaYqCTnhmNE7udZ7M%2FqFDdw0VqoYBwOYxrxYSzz6IVkD3Il%2B4Y43E%2FlYpHUdjDoHkcYkMQA74vN81WjUpxJVJrN5mDsz4BpwavJeZfdRSsuN0ixmf5jTTRhxZHlAf0%2Bqrh04FUiVngRunq2%2BD2lvqH0w5LxQ9rlNikuJrX2Y5VOTkEmHSEsocWkrN7pFFN4FUJ%2FP3udl0zHuCnpTT8%2FXDy%2BHRAZCCN1F22lwV6%2FJaZKjO%2BCzRtOqB0nyQEd1hulcc2CYxWe%2Bxi67ZQ%2BsUFx4ILOh9FGTV%2FwU4cPkS9df%2Fnx1sl80gkwzlSikL%2Fep0pywRbgxc7MS5XSh%2BEZdmvTNWwdITG0JlB1h3%2BFYEcUkuOcpqXP%2FEfVGs2OqH9l6YII5ugOGfB4CYY%3D&nvMid=82723717807&catId=50004652\n",
      "9번째 상품명: 이베리코(1kg) 항정살 목살 갈비살 듀록슬라이스삼겹살(2kg) 캠핑 업소용 해담솔푸드 / 가격: 23,800원 / link: https://cr.shopping.naver.com/adcr.nhn?x=bdddc8IT2XOPlrCk8wPwK%2F%2F%2F%2Fw%3D%3Dskq5xmC6I81fpFzRjmwXRpV4uBkUra23RzYq1Va3K5OPEsq12M8iX1gzqntfjJWf3HNa%2FR%2FG1hAhJPkpGW5V6pAV%2FMGNDjPUJ21EpowYJOeZvwiQQWfI2gIEa5Sz04A7v4cB4in3%2F9Re43sSai8DYm8VIhUTYq2J1wF4XcKD2AOWkOA3ZateG%2FY8eKxwX1E0N1oNWRSQtJLKqL2oD7z3pBZ6NAUrNnYFIuOvge4cAf0NVXemfpmeX70wC2wQT5nyi5pxiwDZPU40LYzhHX%2FcRvxmTe9RBqbCnpO9168M3BYTzoXKd%2BCzYjOD8IkDIZP%2FM%2BrIapIW4a96vgdyNnOilQsLP5e9rJJllxXZWiHOCRriMHn7BDBNaqXNmoKbAeTMvL3b%2Fc5d2W8xP7kj1zyvzpSFKvLBQtv7fubGOsksC53%2B%2BLXmCONm%2FMfOhQyk%2FcNeEgeq6b7RrsxF4eY7cGH84KFit6KIMCMwfEu6WJvzKtU9OkTD4ApONn5w1Epu5t0dicXzeOC84jTCdYV0w9IBaUQ5cz51pvuC3pW30hcIps3N9ipRca42W%2B6fWpl%2F4m9ZS5hCxTtO0BEGFMovpO9PUUyXWYuOCvHaklUXulTCGeoWj6j52x%2BdsFyAuOSCzv9LklTcGQY9mriDAyiC90hwmMoVsN%2FiAcjmtIwlTUFZwg6A%3D&nvMid=82999610775&catId=50004652\n",
      "10번째 상품명: 한끼승부 삼겹살 대패 냉동 냉삼 통삼겹살 수입 통삼겹 1kg / 가격: 16,900원 / link: https://cr.shopping.naver.com/adcr.nhn?x=YG61%2F4BcnVwylvHAowICL%2F%2F%2F%2Fw%3D%3Ds1WlFTcIPcZ5njl2B4qKHVeNb33E3Xt1lW0tjC01kQejEsq12M8iX1gzqntfjJWf3UQYa9zQILODyTSOo13JEkgV%2FMGNDjPUJ21EpowYJOeZvwiQQWfI2gIEa5Sz04A7v4cB4in3%2F9Re43sSai8DYm8VIhUTYq2J1wF4XcKD2AOWkOA3ZateG%2FY8eKxwX1E0NrwO8vBVeMUVnRiWtn9UwTJ6NAUrNnYFIuOvge4cAf0NVXemfpmeX70wC2wQT5nyi5pxiwDZPU40LYzhHX%2FcRv%2FLZrwJpHBgsNR2tBs0FbHCCKeLYGCg3YvT%2FWi45iHCQYxrxYSzz6IVkD3Il%2B4Y43LlOibxDP4XhiPO0d3Nu2sjN81WjUpxJVJrN5mDsz4Bp1Aqs1dpFsAZKTUqlOl3oxjRSh2H2h3RSJYN3BpOtG3t2mY6F0uevdbKYYQoS0ZInlB%2FFLGNuZq0S045kC5T0pmDWOaNTGuWEej8LNE5mgqAOXM%2Bdab7gt6Vt9IXCKbNznieuzchuUIEffgB%2FIlCytOYQsU7TtARBhTKL6TvT1FOiFF6S%2FxMDoCMZyWj6QGEjmdDxMWJNaRflRU9CSluRm%2BVfTccVTKQjYN96LVAbS%2BWFbDf4gHI5rSMJU1BWcIOg&nvMid=83956154759&catId=50004652\n",
      "11\n"
     ]
    }
   ],
   "source": [
    "chrome_options = Options()\n",
    "chrome_options.add_experimental_option(\"detach\", True) # 브라우저 꺼짐 방지\n",
    "\n",
    "service = Service(executable_path=ChromeDriverManager().install())\n",
    "driver = webdriver.Chrome(service=service, options=chrome_options)\n",
    "\n",
    "# 웹 싸이트 이동\n",
    "driver.get(\"http://naver.com\")\n",
    "driver.implicitly_wait(time_to_wait=10) # 10초 대기(로딩 시간 필요)\n",
    "\n",
    "# 쇼핑 메뉴 이동\n",
    "WebDriverWait(driver, 5).until(\n",
    "    EC.presence_of_element_located((By.CSS_SELECTOR, \"a.nav.shop\"))\n",
    ").click()\n",
    "\n",
    "# 검색\n",
    "wait = WebDriverWait(driver, 5)\n",
    "search_result = wait.until(search_item((By.CSS_SELECTOR, \"input._searchInput_search_input_QXUFf\"), \"삼겹살\"))\n",
    "\n",
    "if search_result:\n",
    "    selector_dict = {\n",
    "        \"items\": \".basicList_item__0T9JD\",\n",
    "        \"name\": \".basicList_link__JLQJf\",\n",
    "        \"link\": \".basicList_title__VfX3c > a\",\n",
    "        \"price\": \".price_num__S2p_v\"\n",
    "    }\n",
    "    item_list = wait.until(select_items_info(selector_dict))\n",
    "    print(len(item_list))\n"
   ]
  },
  {
   "cell_type": "code",
   "execution_count": null,
   "metadata": {},
   "outputs": [],
   "source": []
  }
 ],
 "metadata": {
  "kernelspec": {
   "display_name": "Python 3.9.10 64-bit ('study3.9')",
   "language": "python",
   "name": "python3"
  },
  "language_info": {
   "codemirror_mode": {
    "name": "ipython",
    "version": 3
   },
   "file_extension": ".py",
   "mimetype": "text/x-python",
   "name": "python",
   "nbconvert_exporter": "python",
   "pygments_lexer": "ipython3",
   "version": "3.9.10+"
  },
  "orig_nbformat": 4,
  "vscode": {
   "interpreter": {
    "hash": "f7e437f51093040c186fe1fdf3815d5791d8856d54a1d09b959b5ae0e56a4015"
   }
  }
 },
 "nbformat": 4,
 "nbformat_minor": 2
}
