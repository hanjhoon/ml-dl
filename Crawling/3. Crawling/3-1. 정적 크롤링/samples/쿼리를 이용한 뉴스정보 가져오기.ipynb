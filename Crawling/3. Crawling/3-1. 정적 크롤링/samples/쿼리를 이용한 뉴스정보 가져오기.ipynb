{
 "cells": [
  {
   "cell_type": "markdown",
   "metadata": {},
   "source": [
    "# 문자열 인코딩/디코딩\n",
    "> 컴퓨터는 문자를 인식할 수 없기 때문에 숫자로 변환되어 저장됩니다. 변환해주기 위해서는 기준이 있어야하는데 이것을 무자 코드라고 하며 대표적으로 ASCII코드 또는 유니코드가 있습니다.  \n",
    "> 이렇게 문자 코드를 기준으로 문자를 코드로 변환하는 것을 문자 인코딩 이라하고 코드를 문자로 변환하는 것을 문자 디코딩 이라고 합니다.\n",
    "- [문자열 인코딩/디코딩 종류]((https://it-eldorado.tistory.com/61))\n",
    "\n",
    "### [URL 인코딩/디코딩](https://it-eldorado.tistory.com/143)\n",
    "> url 인코딩이란 url에서 url로 사용할 수 없는 문자 혹은 url로 사용할 수 있지만 의미가 왜곡될 수 있는 문자들을 '%XX'의 형태로 변환하는 것을 말합니다. 여기서 XX는 16진수 값입니다. \n",
    "\n",
    "# [URL 구조](https://developer.mozilla.org/ko/docs/Web/HTTP/Basics_of_HTTP/Identifying_resources_on_the_Web)\n",
    "> https://news.naver.com:443/main/main.naver?mode=LSD&mid=shm&sid1=100\n",
    "- 프로토콜: https\n",
    "> 프로토콜은 컴퓨터끼리 네트워크 통신을 할 때 규격이다. HTTP, HTTPS, SMTP(이메일), SSH(원격 통신) 등이 있다.\n",
    "- 호스트 주소: news.naver.com\n",
    "> 호스트 주소는 도메인 네임 또는 IP 주소이다. 즉, 서버(서버 컴퓨터)의 고유 주소를 표시하는 영역이다.  \n",
    "> 도에인은 식별하기 어려운 IP 주소를 쉽게 이해할 수 있는 문자로 표시한 주소이다.\n",
    "- 포트 번호: 443\n",
    "> 서버(서버 컴퓨터)에서 네트워크 서비스나 특정 프로세스를 식별하는 논리 단위이다.    \n",
    "> - http는 80 포트  \n",
    "> - https는 443 포트   \n",
    "- 경로: main/main.naver\n",
    "> 서버(서버 컴퓨터)에서 서비스 별로 정의한 주소 경로이다.\n",
    "- 쿼리: mode=LSD&mid=shm&sid1=100\n",
    "> `?`를 기점으로 `key=value` 형태로 데이터를 표현하며, 서버(서버 컴퓨터)에 특정 요청을 할 때 사용한다."
   ]
  },
  {
   "cell_type": "code",
   "execution_count": 1,
   "metadata": {},
   "outputs": [],
   "source": [
    "import requests \n",
    "from bs4 import BeautifulSoup"
   ]
  },
  {
   "cell_type": "code",
   "execution_count": 3,
   "metadata": {},
   "outputs": [
    {
     "data": {
      "text/plain": [
       "200"
      ]
     },
     "execution_count": 3,
     "metadata": {},
     "output_type": "execute_result"
    }
   ],
   "source": [
    "search_key = \"삼성전자\"\n",
    "response = requests.get(\"https://search.naver.com/search.naver?where=news&ie=utf8&sm=nws_hty&query=\"+search_key)\n",
    "response.status_code"
   ]
  },
  {
   "cell_type": "code",
   "execution_count": 9,
   "metadata": {},
   "outputs": [
    {
     "data": {
      "text/plain": [
       "10"
      ]
     },
     "execution_count": 9,
     "metadata": {},
     "output_type": "execute_result"
    }
   ],
   "source": [
    "soup = BeautifulSoup(response.text, 'html.parser')\n",
    "\n",
    "elements = soup.select(\"ul.list_news > li .news_tit\")\n",
    "len(elements)"
   ]
  },
  {
   "cell_type": "code",
   "execution_count": 10,
   "metadata": {},
   "outputs": [
    {
     "data": {
      "text/plain": [
       "<a class=\"news_tit\" href=\"https://www.yna.co.kr/view/AKR20220828053300003?input=1195m\" onclick=\"return goOtherCR(this, 'a=nws*h.tit&amp;r=1&amp;i=880000D8_000000000000000013402999&amp;g=001.0013402999&amp;u='+urlencode(this.href));\" target=\"_blank\" title=\"삼성전자, '작업자 유해물질에 노출' 보도에 &quot;사실과 달라&quot; 반박\"><mark>삼성전자</mark>, '작업자 유해물질에 노출' 보도에 \"사실과 달라\" 반박</a>"
      ]
     },
     "execution_count": 10,
     "metadata": {},
     "output_type": "execute_result"
    }
   ],
   "source": [
    "elements[0]"
   ]
  },
  {
   "cell_type": "code",
   "execution_count": 11,
   "metadata": {},
   "outputs": [
    {
     "data": {
      "text/plain": [
       "('삼성전자, \\'작업자 유해물질에 노출\\' 보도에 \"사실과 달라\" 반박',\n",
       " 'https://www.yna.co.kr/view/AKR20220828053300003?input=1195m')"
      ]
     },
     "execution_count": 11,
     "metadata": {},
     "output_type": "execute_result"
    }
   ],
   "source": [
    "elements[0].text, elements[0].attrs['href']"
   ]
  },
  {
   "cell_type": "code",
   "execution_count": 12,
   "metadata": {},
   "outputs": [
    {
     "data": {
      "text/plain": [
       "(\"삼성전자, 미세 플라스틱 저감 세탁기 'IFA 2022'서 공개\",\n",
       " 'https://zdnet.co.kr/view/?no=20220828092704')"
      ]
     },
     "execution_count": 12,
     "metadata": {},
     "output_type": "execute_result"
    }
   ],
   "source": [
    "elements[1].text, elements[1].attrs['href']"
   ]
  },
  {
   "cell_type": "code",
   "execution_count": 16,
   "metadata": {},
   "outputs": [
    {
     "name": "stdout",
     "output_type": "stream",
     "text": [
      "0 번째, 제목: 삼성전자, '작업자 유해물질에 노출' 보도에 \"사실과 달라\" 반박 / 링크: https://www.yna.co.kr/view/AKR20220828053300003?input=1195m\n",
      "1 번째, 제목: 삼성전자, 미세 플라스틱 저감 세탁기 'IFA 2022'서 공개 / 링크: https://zdnet.co.kr/view/?no=20220828092704\n",
      "2 번째, 제목: 삼성전자, 한-피지 비즈니스 포럼 기조연설…부산엑스포 유치 지원 / 링크: http://www.newsis.com/view/?id=NISX20220828_0001992963&cID=13001&pID=13000\n",
      "3 번째, 제목: 삼성전자, 'IFA 2022'서 미세 플라스틱 저감 세탁기 공개한다 / 링크: https://www.news1.kr/articles/4785479\n",
      "4 번째, 제목: 삼성전자, 도쿄서 '갤럭시 X BTS' 특별 체험 이벤트 / 링크: http://www.fnnews.com/news/202208281159290279\n",
      "5 번째, 제목: 폴더블 힘 싣는 삼성전자…도쿄서 '갤럭시 X BTS' 체험 이벤트 / 링크: http://www.inews24.com/view/1514250\n",
      "6 번째, 제목: 삼성 vs LG, '스마트홈 플랫폼' 왕좌 주인공은? / 링크: http://www.etnews.com/20220826000108\n",
      "7 번째, 제목: ‘문과생도 이해하기 쉽게’…삼성 출신 전문가, 반도체 입문서 출간 / 링크: http://news.heraldcorp.com/view.php?ud=20220826000588\n",
      "8 번째, 제목: 이재용 부회장, 복권 후 사업장 돌며 뉴삼성 시동 / 링크: https://view.asiae.co.kr/article/2022082810410305406\n",
      "9 번째, 제목: [단독] 삼성전자 세트부문 상시 희망퇴직...이재용 '뉴삼성' 전환 박차 / 링크: http://www.fnnews.com/news/202208281017045664\n"
     ]
    }
   ],
   "source": [
    "for i, element in enumerate(elements):\n",
    "    print(f'{i} 번째, 제목: {element.text} / 링크: {element.attrs[\"href\"]}')"
   ]
  },
  {
   "cell_type": "markdown",
   "metadata": {},
   "source": [
    "함수 만들기"
   ]
  },
  {
   "cell_type": "code",
   "execution_count": 17,
   "metadata": {},
   "outputs": [],
   "source": [
    "def select_articles(search_key):\n",
    "    articles = []\n",
    "    response = requests.get(\"https://search.naver.com/search.naver?where=news&ie=utf8&sm=nws_hty&query=\"+search_key)\n",
    "    if response.ok:\n",
    "        soup = BeautifulSoup(response.text, 'html.parser')\n",
    "        elements = soup.select(\"ul.list_news > li .news_tit\")\n",
    "        for i, element in enumerate(elements):\n",
    "            articles.append(\n",
    "                f'{i} 번째, 제목: {element.text} / 링크: {element.attrs[\"href\"]}'\n",
    "            )\n",
    "    return articles "
   ]
  },
  {
   "cell_type": "code",
   "execution_count": 18,
   "metadata": {},
   "outputs": [
    {
     "data": {
      "text/plain": [
       "['0 번째, 제목: 이병선 전 카카오 부사장, 제주창조경제혁신센터장 취임 / 링크: http://www.edaily.co.kr/news/newspath.asp?newsid=01807286632431912',\n",
       " \"1 번째, 제목: '카톡 말고 프로젝트' 나선 카카오…바람 잠재울 수 있을까 [홍키자의 빅테크... / 링크: https://premium.mk.co.kr/view.php?no=32380\",\n",
       " '2 번째, 제목: ‘카카오 창작재단’ 본격 운영 돌입 / 링크: http://www.segye.com/content/html/2022/08/26/20220826509013.html?OutUrl=naver',\n",
       " '3 번째, 제목: 카카오, 모바일 \\'다음\\' 뉴스 개편…\"언론사 편집뉴스 골라본다\" / 링크: http://www.newsis.com/view/?id=NISX20220825_0001989869&cID=13006&pID=13100',\n",
       " \"4 번째, 제목: 카카오뱅크 '마이너스 통장' 대출 재개…금리 내려 / 링크: http://www.wowtv.co.kr/NewsCenter/News/Read?articleId=A202208260006&t=NN\",\n",
       " '5 번째, 제목: 조폐공사, 카카오엔터프라이즈 벤치마킹 나서 / 링크: http://www.breaknews.com/919448',\n",
       " '6 번째, 제목: 카카오엔터, 제1회 키워드 공모전 개최 / 링크: https://zdnet.co.kr/view/?no=20220826094619',\n",
       " \"7 번째, 제목: 달라진 '카카오 뉴스'…포털의 '정치적 편향' 논란 벗을까 / 링크: http://news.mt.co.kr/mtview.php?no=2022082618304634473\",\n",
       " '8 번째, 제목: 조폐공사, 카카오엔터프라이즈 벤치마킹한다 / 링크: http://www.chungnamilbo.co.kr/news/articleView.html?idxno=676276',\n",
       " '9 번째, 제목: \"카카오T바이크, 대기업 골목 상권 진출과 같다\" / 링크: http://www.idomin.com/news/articleView.html?idxno=803170']"
      ]
     },
     "execution_count": 18,
     "metadata": {},
     "output_type": "execute_result"
    }
   ],
   "source": [
    "select_articles('카카오')"
   ]
  },
  {
   "cell_type": "code",
   "execution_count": null,
   "metadata": {},
   "outputs": [],
   "source": []
  }
 ],
 "metadata": {
  "kernelspec": {
   "display_name": "Python 3.9.10 64-bit ('study3.9')",
   "language": "python",
   "name": "python3"
  },
  "language_info": {
   "codemirror_mode": {
    "name": "ipython",
    "version": 3
   },
   "file_extension": ".py",
   "mimetype": "text/x-python",
   "name": "python",
   "nbconvert_exporter": "python",
   "pygments_lexer": "ipython3",
   "version": "3.9.10"
  },
  "orig_nbformat": 4,
  "vscode": {
   "interpreter": {
    "hash": "f7e437f51093040c186fe1fdf3815d5791d8856d54a1d09b959b5ae0e56a4015"
   }
  }
 },
 "nbformat": 4,
 "nbformat_minor": 2
}
